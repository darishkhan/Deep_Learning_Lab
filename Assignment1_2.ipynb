{
  "cells": [
    {
      "cell_type": "markdown",
      "metadata": {
        "id": "view-in-github",
        "colab_type": "text"
      },
      "source": [
        "<a href=\"https://colab.research.google.com/github/darishkhan/Deep_Learning_Lab/blob/main/Assignment1_2.ipynb\" target=\"_parent\"><img src=\"https://colab.research.google.com/assets/colab-badge.svg\" alt=\"Open In Colab\"/></a>"
      ]
    },
    {
      "cell_type": "markdown",
      "metadata": {
        "id": "m1YZ5i7alc5D"
      },
      "source": [
        "#Importing necessary libraries"
      ]
    },
    {
      "cell_type": "code",
      "execution_count": null,
      "metadata": {
        "id": "Rj38iouVScOO"
      },
      "outputs": [],
      "source": [
        "import numpy as np\n",
        "import pandas as pd\n",
        "from keras.datasets import cifar10\n",
        "import warnings\n",
        "warnings.filterwarnings('ignore')"
      ]
    },
    {
      "cell_type": "markdown",
      "metadata": {
        "id": "8fTWEexClmzW"
      },
      "source": [
        "#Seperation of training and testing data"
      ]
    },
    {
      "cell_type": "code",
      "execution_count": null,
      "metadata": {
        "colab": {
          "base_uri": "https://localhost:8080/"
        },
        "id": "pSbomFtlVTla",
        "outputId": "fb30cc40-beae-4b2c-ebbf-2eb215e71ad7"
      },
      "outputs": [
        {
          "output_type": "stream",
          "name": "stdout",
          "text": [
            "Downloading data from https://www.cs.toronto.edu/~kriz/cifar-10-python.tar.gz\n",
            "\u001b[1m170498071/170498071\u001b[0m \u001b[32m━━━━━━━━━━━━━━━━━━━━\u001b[0m\u001b[37m\u001b[0m \u001b[1m11s\u001b[0m 0us/step\n"
          ]
        }
      ],
      "source": [
        "(x_train, y_train), (x_test, y_test) = cifar10.load_data()"
      ]
    },
    {
      "cell_type": "code",
      "execution_count": null,
      "metadata": {
        "colab": {
          "base_uri": "https://localhost:8080/"
        },
        "id": "EO2q1aOWXMbZ",
        "outputId": "ced4cd18-8088-404f-a683-577b17927fe3"
      },
      "outputs": [
        {
          "output_type": "stream",
          "name": "stdout",
          "text": [
            "(50000, 32, 32, 3)\n",
            "(50000, 1)\n",
            "(10000, 32, 32, 3)\n",
            "(10000, 1)\n"
          ]
        }
      ],
      "source": [
        "print(x_train.shape)\n",
        "print(y_train.shape)\n",
        "print(x_test.shape)\n",
        "print(y_test.shape)"
      ]
    },
    {
      "cell_type": "markdown",
      "metadata": {
        "id": "JGD6d_tKlr9P"
      },
      "source": [
        "#Flattening RGB images to a vector"
      ]
    },
    {
      "cell_type": "code",
      "execution_count": null,
      "metadata": {
        "colab": {
          "base_uri": "https://localhost:8080/"
        },
        "id": "1uLVhCj1a3a7",
        "outputId": "e400a97b-29a8-492f-e2eb-56a88531b011"
      },
      "outputs": [
        {
          "output_type": "stream",
          "name": "stdout",
          "text": [
            "(50000, 3072)\n",
            "(10000, 3072)\n"
          ]
        }
      ],
      "source": [
        "flattened_x_train = x_train.reshape(50000, 3072)\n",
        "flattened_x_test = x_test.reshape(10000, 3072)\n",
        "print(flattened_x_train.shape)\n",
        "print(flattened_x_test.shape)"
      ]
    },
    {
      "cell_type": "code",
      "execution_count": null,
      "metadata": {
        "colab": {
          "base_uri": "https://localhost:8080/"
        },
        "id": "e989HooQemuL",
        "outputId": "abd12d11-c5a8-4331-dca9-eab63edd0e43"
      },
      "outputs": [
        {
          "output_type": "stream",
          "name": "stdout",
          "text": [
            "[[6]\n",
            " [9]\n",
            " [9]\n",
            " ...\n",
            " [9]\n",
            " [1]\n",
            " [1]]\n"
          ]
        }
      ],
      "source": [
        "print(y_train)"
      ]
    },
    {
      "cell_type": "markdown",
      "metadata": {
        "id": "KGBbm5JFlwSJ"
      },
      "source": [
        "#KNN with Euclidean norm for k = [3, 4, 9, 20, 47]\n",
        "Only 25000 training data is used so as to manage training time.\n",
        "\n",
        "*Less training data compromises accuracy*"
      ]
    },
    {
      "cell_type": "code",
      "execution_count": null,
      "metadata": {
        "id": "QqvpODXfeXpC"
      },
      "outputs": [],
      "source": [
        "def knn_with_euclidean(data_point, k, training_data):\n",
        "  distances = []\n",
        "  for i in range(len(training_data)):\n",
        "    distance = np.linalg.norm(data_point - training_data[i])\n",
        "    distances.append((distance, y_train[i][0]))\n",
        "  distances.sort()\n",
        "  neighbors=distances\n",
        "  pred = []\n",
        "\n",
        "  ans=[]\n",
        "  j=0\n",
        "  count=[];\n",
        "  for i in range(10):\n",
        "    count.append(0)\n",
        "\n",
        "  for i in range(len(neighbors)):\n",
        "    if(i==k[j]):\n",
        "      pred.append(count.copy())\n",
        "      j+=1\n",
        "    if(j>=len(k)):\n",
        "      break;\n",
        "    count[neighbors[i][1]]+=1\n",
        "  for i in range(len(k)):\n",
        "    ans.append(pred[i].index(max(pred[i])))\n",
        "  return ans"
      ]
    },
    {
      "cell_type": "code",
      "execution_count": null,
      "metadata": {
        "colab": {
          "base_uri": "https://localhost:8080/"
        },
        "id": "dbWSwfNuhcPM",
        "outputId": "b83696b9-d6f9-4e85-a78b-fb487e6a64c1"
      },
      "outputs": [
        {
          "output_type": "stream",
          "name": "stdout",
          "text": [
            "Testing done for 1000 images\n",
            "Testing done for 2000 images\n",
            "Testing done for 3000 images\n",
            "Testing done for 4000 images\n",
            "Testing done for 5000 images\n",
            "Testing done for 6000 images\n",
            "Testing done for 7000 images\n",
            "Testing done for 8000 images\n",
            "Testing done for 9000 images\n",
            "Testing done for 10000 images\n"
          ]
        }
      ],
      "source": [
        "k=[3, 4, 9, 20, 47]\n",
        "countk = []\n",
        "for i in range(len(k)):\n",
        "  countk.append(0)\n",
        "\n",
        "for i in range(10000):\n",
        "  pred = knn_with_euclidean(flattened_x_test[i], k, flattened_x_train[:25000])\n",
        "  for j in range(len(pred)):\n",
        "    if(pred[j]==y_test[i]):\n",
        "      countk[j]+=1\n",
        "  if((i+1)%1000==0):\n",
        "    print(f'Testing done for {i+1} images')"
      ]
    },
    {
      "cell_type": "code",
      "execution_count": null,
      "metadata": {
        "colab": {
          "base_uri": "https://localhost:8080/"
        },
        "id": "D7vxbE7GW0YA",
        "outputId": "789d1fea-7ccd-46bc-ec00-bcd0e69c4be9"
      },
      "outputs": [
        {
          "output_type": "stream",
          "name": "stdout",
          "text": [
            "\n",
            " accuracy while using euclidean distance : \n",
            "Accuracy for k = 3 :  21.34\n",
            "Accuracy for k = 4 :  22.11\n",
            "Accuracy for k = 9 :  22.98\n",
            "Accuracy for k = 20 :  23.28\n",
            "Accuracy for k = 47 :  22.45\n"
          ]
        }
      ],
      "source": [
        "print(f'\\n accuracy while using euclidean distance : ')\n",
        "for j in range(len(k)):\n",
        "  count = countk[j]\n",
        "  print(f'Accuracy for k = {k[j]} : ', count/100)"
      ]
    },
    {
      "cell_type": "markdown",
      "metadata": {
        "id": "7D5T6d6ImJUp"
      },
      "source": [
        "#KNN with manhattan distance for k = [3, 4, 9, 20, 47]\n",
        "Training data further reduced to 10000 because of high training time."
      ]
    },
    {
      "cell_type": "code",
      "execution_count": null,
      "metadata": {
        "id": "eXq96zj6jFqR"
      },
      "outputs": [],
      "source": [
        "def knn_with_manhattan(data_point, k, training_data):\n",
        "  distances = []\n",
        "  for i in range(len(training_data)):\n",
        "    distance = np.linalg.norm(np.array(data_point) - np.array(training_data[i]), 1)\n",
        "    distances.append((distance, y_train[i][0]))\n",
        "  distances.sort()\n",
        "  neighbors=distances\n",
        "  pred = []\n",
        "\n",
        "  ans=[]\n",
        "  j=0\n",
        "  count=[];\n",
        "  for i in range(10):\n",
        "    count.append(0)\n",
        "\n",
        "  for i in range(len(neighbors)):\n",
        "    if(i==k[j]):\n",
        "      pred.append(count.copy())\n",
        "      j+=1\n",
        "    if(j>=len(k)):\n",
        "      break;\n",
        "    count[neighbors[i][1]]+=1\n",
        "  for i in range(len(k)):\n",
        "    ans.append(pred[i].index(max(pred[i])))\n",
        "  return ans"
      ]
    },
    {
      "cell_type": "code",
      "execution_count": null,
      "metadata": {
        "colab": {
          "base_uri": "https://localhost:8080/"
        },
        "id": "Ny1hdWctIBka",
        "outputId": "d6cb7aa4-b6a8-43fd-d510-dfabf7f78ddc"
      },
      "outputs": [
        {
          "output_type": "stream",
          "name": "stdout",
          "text": [
            "Testing done for 1000 images\n",
            "Testing done for 2000 images\n",
            "Testing done for 3000 images\n",
            "Testing done for 4000 images\n",
            "Testing done for 5000 images\n",
            "Testing done for 6000 images\n",
            "Testing done for 7000 images\n",
            "Testing done for 8000 images\n",
            "Testing done for 9000 images\n",
            "Testing done for 10000 images\n"
          ]
        }
      ],
      "source": [
        "k=[3, 4, 9, 20, 47]\n",
        "countkm = []\n",
        "for i in range(len(k)):\n",
        "  countkm.append(0)\n",
        "\n",
        "for i in range(10000):\n",
        "  pred = knn_with_manhattan(flattened_x_test[i], k, flattened_x_train[:25000])\n",
        "  for j in range(len(pred)):\n",
        "    if(pred[j]==y_test[i]):\n",
        "      countkm[j]+=1\n",
        "  if((i+1)%1000==0):\n",
        "    print(f'Testing done for {i+1} images')\n",
        "\n"
      ]
    },
    {
      "cell_type": "code",
      "execution_count": null,
      "metadata": {
        "colab": {
          "base_uri": "https://localhost:8080/"
        },
        "id": "xU3Q2VYCforu",
        "outputId": "fc8b93de-9918-4ba0-fbca-6788394d6865"
      },
      "outputs": [
        {
          "output_type": "stream",
          "name": "stdout",
          "text": [
            "\n",
            " accuracy while using manhattan distance : \n",
            "Accuracy for k = 3 :  25.29\n",
            "Accuracy for k = 4 :  25.49\n",
            "Accuracy for k = 9 :  26.85\n",
            "Accuracy for k = 20 :  27.25\n",
            "Accuracy for k = 47 :  26.55\n"
          ]
        }
      ],
      "source": [
        "print(f'\\n accuracy while using manhattan distance : ')\n",
        "for j in range(len(k)):\n",
        "  count = countkm[j]\n",
        "  print(f'Accuracy for k = {k[j]} : ', count/100)"
      ]
    },
    {
      "cell_type": "markdown",
      "metadata": {
        "id": "b9jOQOGwmYzQ"
      },
      "source": [
        "#KNN with Minkowski distance with k = [3, 4, 9, 20, 47]"
      ]
    },
    {
      "cell_type": "code",
      "execution_count": null,
      "metadata": {
        "id": "1rrwkLx0ISxO"
      },
      "outputs": [],
      "source": [
        "def knn_with_minkowski(data_point, k, training_data):\n",
        "  distances = []\n",
        "  for i in range(len(training_data)):\n",
        "    distance = np.linalg.norm(np.array(data_point) - np.array(training_data[i]), 3)\n",
        "    distances.append((distance, y_train[i][0]))\n",
        "  distances.sort()\n",
        "  neighbors=distances\n",
        "  pred = []\n",
        "\n",
        "  ans=[]\n",
        "  j=0\n",
        "  count=[];\n",
        "  for i in range(10):\n",
        "    count.append(0)\n",
        "\n",
        "  for i in range(len(neighbors)):\n",
        "    if(i==k[j]):\n",
        "      pred.append(count.copy())\n",
        "      j+=1\n",
        "    if(j>=len(k)):\n",
        "      break;\n",
        "    count[neighbors[i][1]]+=1\n",
        "  for i in range(len(k)):\n",
        "    ans.append(pred[i].index(max(pred[i])))\n",
        "  return ans"
      ]
    },
    {
      "cell_type": "code",
      "execution_count": null,
      "metadata": {
        "colab": {
          "base_uri": "https://localhost:8080/"
        },
        "id": "OGGse0YdIF2l",
        "outputId": "31948285-a916-4cd0-aa9c-1c2b7cfb2d4b"
      },
      "outputs": [
        {
          "output_type": "stream",
          "name": "stdout",
          "text": [
            "Testing done for 100 images\n",
            "Testing done for 200 images\n",
            "Testing done for 300 images\n",
            "Testing done for 400 images\n",
            "Testing done for 500 images\n",
            "Testing done for 600 images\n",
            "Testing done for 700 images\n",
            "Testing done for 800 images\n",
            "Testing done for 900 images\n",
            "Testing done for 1000 images\n"
          ]
        }
      ],
      "source": [
        "k=[3, 4, 9, 20, 47]\n",
        "countkmi = []\n",
        "for i in range(len(k)):\n",
        "  countkmi.append(0)\n",
        "\n",
        "for i in range(1000):\n",
        "  pred = knn_with_minkowski(flattened_x_test[i], k, flattened_x_train[:25000])\n",
        "  for j in range(len(pred)):\n",
        "    if(pred[j]==y_test[i]):\n",
        "      countkmi[j]+=1\n",
        "  if((i+1)%100==0):\n",
        "    print(f'Testing done for {i+1} images')\n",
        "\n"
      ]
    },
    {
      "cell_type": "code",
      "execution_count": null,
      "metadata": {
        "id": "kLKJK8Ahfq1c",
        "colab": {
          "base_uri": "https://localhost:8080/"
        },
        "outputId": "505e30c4-7955-49ea-f9a9-64c4b6fdd938"
      },
      "outputs": [
        {
          "output_type": "stream",
          "name": "stdout",
          "text": [
            "\n",
            " accuracy while using minkowski distance : \n",
            "Accuracy for k = 3 :  19.9\n",
            "Accuracy for k = 4 :  20.3\n",
            "Accuracy for k = 9 :  22.0\n",
            "Accuracy for k = 20 :  22.1\n",
            "Accuracy for k = 47 :  20.4\n"
          ]
        }
      ],
      "source": [
        "print(f'\\n accuracy while using minkowski distance : ')\n",
        "for j in range(len(k)):\n",
        "  count = countkmi[j]\n",
        "  print(f'Accuracy for k = {k[j]} : ', count/10)"
      ]
    },
    {
      "cell_type": "markdown",
      "metadata": {
        "id": "TOzpYDO1me3N"
      },
      "source": [
        "#KNN with cosine similarity metric for k = [3, 4, 9, 20, 47]"
      ]
    },
    {
      "cell_type": "code",
      "execution_count": null,
      "metadata": {
        "id": "L-COuJFxI8Hq"
      },
      "outputs": [],
      "source": [
        "def cosine_similarity(x, y):\n",
        "  return np.dot(x, y) / (np.linalg.norm(x) * np.linalg.norm(y))"
      ]
    },
    {
      "cell_type": "code",
      "execution_count": null,
      "metadata": {
        "id": "9B_CmJxpIZCo"
      },
      "outputs": [],
      "source": [
        "def knn_with_cosine_similarity(data_point, k, training_data):\n",
        "  distances = []\n",
        "  for i in range(len(training_data)):\n",
        "    distance = cosine_similarity(data_point, training_data[i])\n",
        "    distances.append((distance, y_train[i][0]))\n",
        "  distances.sort()\n",
        "  neighbors=distances\n",
        "  pred = []\n",
        "\n",
        "  ans=[]\n",
        "  j=0\n",
        "  count=[];\n",
        "  for i in range(10):\n",
        "    count.append(0)\n",
        "\n",
        "  for i in range(len(neighbors)):\n",
        "    if(i==k[j]):\n",
        "      pred.append(count.copy())\n",
        "      j+=1\n",
        "    if(j>=len(k)):\n",
        "      break;\n",
        "    count[neighbors[i][1]]+=1\n",
        "  for i in range(len(k)):\n",
        "    ans.append(pred[i].index(max(pred[i])))\n",
        "  return ans"
      ]
    },
    {
      "cell_type": "code",
      "execution_count": null,
      "metadata": {
        "id": "oTgkKwkJIH4U",
        "colab": {
          "base_uri": "https://localhost:8080/"
        },
        "outputId": "88dcca00-1e4c-4ac1-bb5b-9bbd27dfb175"
      },
      "outputs": [
        {
          "output_type": "stream",
          "name": "stdout",
          "text": [
            "Testing done for 100 images\n",
            "Testing done for 200 images\n",
            "Testing done for 300 images\n",
            "Testing done for 400 images\n",
            "Testing done for 500 images\n",
            "Testing done for 600 images\n",
            "Testing done for 700 images\n",
            "Testing done for 800 images\n",
            "Testing done for 900 images\n",
            "Testing done for 1000 images\n",
            "Testing done for 1100 images\n",
            "Testing done for 1200 images\n",
            "Testing done for 1300 images\n",
            "Testing done for 1400 images\n",
            "Testing done for 1500 images\n",
            "Testing done for 1600 images\n",
            "Testing done for 1700 images\n",
            "Testing done for 1800 images\n",
            "Testing done for 1900 images\n",
            "Testing done for 2000 images\n",
            "Testing done for 2100 images\n",
            "Testing done for 2200 images\n",
            "Testing done for 2300 images\n",
            "Testing done for 2400 images\n",
            "Testing done for 2500 images\n",
            "Testing done for 2600 images\n",
            "Testing done for 2700 images\n",
            "Testing done for 2800 images\n",
            "Testing done for 2900 images\n",
            "Testing done for 3000 images\n",
            "Testing done for 3100 images\n",
            "Testing done for 3200 images\n",
            "Testing done for 3300 images\n",
            "Testing done for 3400 images\n",
            "Testing done for 3500 images\n",
            "Testing done for 3600 images\n",
            "Testing done for 3700 images\n",
            "Testing done for 3800 images\n",
            "Testing done for 3900 images\n",
            "Testing done for 4000 images\n",
            "Testing done for 4100 images\n",
            "Testing done for 4200 images\n",
            "Testing done for 4300 images\n",
            "Testing done for 4400 images\n",
            "Testing done for 4500 images\n",
            "Testing done for 4600 images\n",
            "Testing done for 4700 images\n",
            "Testing done for 4800 images\n",
            "Testing done for 4900 images\n",
            "Testing done for 5000 images\n"
          ]
        }
      ],
      "source": [
        "k=[3, 4, 9, 20, 47]\n",
        "countkc = []\n",
        "for i in range(len(k)):\n",
        "  countkc.append(0)\n",
        "\n",
        "for i in range(5000):\n",
        "  pred = knn_with_cosine_similarity(flattened_x_test[i], k, flattened_x_train[:25000])\n",
        "  for j in range(len(pred)):\n",
        "    if(pred[j]==y_test[i]):\n",
        "      countkc[j]+=1\n",
        "  if((i+1)%100==0):\n",
        "    print(f'Testing done for {i+1} images')\n",
        "\n"
      ]
    },
    {
      "cell_type": "code",
      "execution_count": null,
      "metadata": {
        "id": "3oXcOJSaftXM",
        "colab": {
          "base_uri": "https://localhost:8080/"
        },
        "outputId": "b1e25ad7-c4b9-4171-8333-10edd4068ad2"
      },
      "outputs": [
        {
          "output_type": "stream",
          "name": "stdout",
          "text": [
            "\n",
            " accuracy while using cosine similarity metric : \n",
            "Accuracy for k = 3 :  9.74\n",
            "Accuracy for k = 4 :  9.74\n",
            "Accuracy for k = 9 :  9.66\n",
            "Accuracy for k = 20 :  9.66\n",
            "Accuracy for k = 47 :  9.74\n"
          ]
        }
      ],
      "source": [
        "print(f'\\n accuracy while using cosine similarity metric : ')\n",
        "for j in range(len(k)):\n",
        "  count = countkc[j]\n",
        "  print(f'Accuracy for k = {k[j]} : ', count/50)"
      ]
    },
    {
      "cell_type": "markdown",
      "metadata": {
        "id": "9AfMeZ35mlEN"
      },
      "source": [
        "#KNN with hamming distance for k = [3, 4, 9, 20, 47]"
      ]
    },
    {
      "cell_type": "code",
      "execution_count": null,
      "metadata": {
        "id": "QBtTyWfJImMS"
      },
      "outputs": [],
      "source": [
        "def hamming_distance(x, y):\n",
        "  z = x-y\n",
        "  return len(z) - np.count_nonzero(z)"
      ]
    },
    {
      "cell_type": "code",
      "execution_count": null,
      "metadata": {
        "id": "SabEHKKfIm49"
      },
      "outputs": [],
      "source": [
        "def knn_with_hamming(data_point, k, training_data):\n",
        "  distances = []\n",
        "  for i in range(len(training_data)):\n",
        "    distance = hamming_distance(np.array(data_point), np.array(training_data[i]))\n",
        "    distances.append((distance, y_train[i][0]))\n",
        "  distances.sort()\n",
        "  neighbors=distances\n",
        "  pred = []\n",
        "\n",
        "  ans=[]\n",
        "  j=0\n",
        "  count=[];\n",
        "  for i in range(10):\n",
        "    count.append(0)\n",
        "\n",
        "  for i in range(len(neighbors)):\n",
        "    if(i==k[j]):\n",
        "      pred.append(count.copy())\n",
        "      j+=1\n",
        "    if(j>=len(k)):\n",
        "      break;\n",
        "    count[neighbors[i][1]]+=1\n",
        "  for i in range(len(k)):\n",
        "    ans.append(pred[i].index(max(pred[i])))\n",
        "  return ans"
      ]
    },
    {
      "cell_type": "code",
      "execution_count": null,
      "metadata": {
        "id": "0GOkNos4IIzT",
        "colab": {
          "base_uri": "https://localhost:8080/"
        },
        "outputId": "b1f9c811-2224-4e36-e8de-0c1691f84abd"
      },
      "outputs": [
        {
          "output_type": "stream",
          "name": "stdout",
          "text": [
            "Testing done for 100 images\n",
            "Testing done for 200 images\n",
            "Testing done for 300 images\n",
            "Testing done for 400 images\n",
            "Testing done for 500 images\n",
            "Testing done for 600 images\n",
            "Testing done for 700 images\n",
            "Testing done for 800 images\n",
            "Testing done for 900 images\n",
            "Testing done for 1000 images\n",
            "Testing done for 1100 images\n",
            "Testing done for 1200 images\n",
            "Testing done for 1300 images\n",
            "Testing done for 1400 images\n",
            "Testing done for 1500 images\n",
            "Testing done for 1600 images\n",
            "Testing done for 1700 images\n",
            "Testing done for 1800 images\n",
            "Testing done for 1900 images\n",
            "Testing done for 2000 images\n",
            "Testing done for 2100 images\n",
            "Testing done for 2200 images\n",
            "Testing done for 2300 images\n",
            "Testing done for 2400 images\n",
            "Testing done for 2500 images\n",
            "Testing done for 2600 images\n",
            "Testing done for 2700 images\n",
            "Testing done for 2800 images\n",
            "Testing done for 2900 images\n",
            "Testing done for 3000 images\n",
            "Testing done for 3100 images\n",
            "Testing done for 3200 images\n",
            "Testing done for 3300 images\n",
            "Testing done for 3400 images\n",
            "Testing done for 3500 images\n",
            "Testing done for 3600 images\n",
            "Testing done for 3700 images\n",
            "Testing done for 3800 images\n",
            "Testing done for 3900 images\n",
            "Testing done for 4000 images\n",
            "Testing done for 4100 images\n",
            "Testing done for 4200 images\n",
            "Testing done for 4300 images\n",
            "Testing done for 4400 images\n",
            "Testing done for 4500 images\n",
            "Testing done for 4600 images\n",
            "Testing done for 4700 images\n",
            "Testing done for 4800 images\n",
            "Testing done for 4900 images\n",
            "Testing done for 5000 images\n",
            "Testing done for 5100 images\n",
            "Testing done for 5200 images\n",
            "Testing done for 5300 images\n",
            "Testing done for 5400 images\n",
            "Testing done for 5500 images\n",
            "Testing done for 5600 images\n",
            "Testing done for 5700 images\n",
            "Testing done for 5800 images\n",
            "Testing done for 5900 images\n",
            "Testing done for 6000 images\n",
            "Testing done for 6100 images\n",
            "Testing done for 6200 images\n",
            "Testing done for 6300 images\n",
            "Testing done for 6400 images\n",
            "Testing done for 6500 images\n",
            "Testing done for 6600 images\n",
            "Testing done for 6700 images\n",
            "Testing done for 6800 images\n",
            "Testing done for 6900 images\n",
            "Testing done for 7000 images\n",
            "Testing done for 7100 images\n",
            "Testing done for 7200 images\n",
            "Testing done for 7300 images\n",
            "Testing done for 7400 images\n",
            "Testing done for 7500 images\n",
            "Testing done for 7600 images\n",
            "Testing done for 7700 images\n",
            "Testing done for 7800 images\n",
            "Testing done for 7900 images\n",
            "Testing done for 8000 images\n",
            "Testing done for 8100 images\n",
            "Testing done for 8200 images\n",
            "Testing done for 8300 images\n",
            "Testing done for 8400 images\n",
            "Testing done for 8500 images\n",
            "Testing done for 8600 images\n",
            "Testing done for 8700 images\n",
            "Testing done for 8800 images\n",
            "Testing done for 8900 images\n",
            "Testing done for 9000 images\n",
            "Testing done for 9100 images\n",
            "Testing done for 9200 images\n",
            "Testing done for 9300 images\n",
            "Testing done for 9400 images\n",
            "Testing done for 9500 images\n",
            "Testing done for 9600 images\n",
            "Testing done for 9700 images\n",
            "Testing done for 9800 images\n",
            "Testing done for 9900 images\n",
            "Testing done for 10000 images\n"
          ]
        }
      ],
      "source": [
        "k=[3, 4, 9, 20, 47]\n",
        "countkh = []\n",
        "for i in range(len(k)):\n",
        "  countkh.append(0)\n",
        "\n",
        "for i in range(10000):\n",
        "  pred = knn_with_hamming(flattened_x_test[i], k, flattened_x_train[:25000])\n",
        "  for j in range(len(pred)):\n",
        "    if(pred[j]==y_test[i]):\n",
        "      countkh[j]+=1\n",
        "  if((i+1)%100==0):\n",
        "    print(f'Testing done for {i+1} images')\n",
        "\n"
      ]
    },
    {
      "cell_type": "code",
      "execution_count": null,
      "metadata": {
        "id": "tMLAP6p_fv1w",
        "colab": {
          "base_uri": "https://localhost:8080/"
        },
        "outputId": "7709c8dc-ae05-433b-d807-61e3282f8315"
      },
      "outputs": [
        {
          "output_type": "stream",
          "name": "stdout",
          "text": [
            "\n",
            " accuracy while using hamming distance : \n",
            "Accuracy for k = 3 :  10.15\n",
            "Accuracy for k = 4 :  10.16\n",
            "Accuracy for k = 9 :  10.13\n",
            "Accuracy for k = 20 :  9.9\n",
            "Accuracy for k = 47 :  9.57\n"
          ]
        }
      ],
      "source": [
        "print(f'\\n accuracy while using hamming distance : ')\n",
        "for j in range(len(k)):\n",
        "  count = countkh[j]\n",
        "  print(f'Accuracy for k = {k[j]} : ', count/100)"
      ]
    },
    {
      "cell_type": "markdown",
      "source": [
        "#Plot of Accuracy v/s K"
      ],
      "metadata": {
        "id": "3nMVIfShRlX_"
      }
    },
    {
      "cell_type": "code",
      "execution_count": null,
      "metadata": {
        "id": "m56GZYdDJKin",
        "colab": {
          "base_uri": "https://localhost:8080/",
          "height": 472
        },
        "outputId": "0b3912a6-be7d-4d6e-9294-7afaacd75688"
      },
      "outputs": [
        {
          "output_type": "display_data",
          "data": {
            "text/plain": [
              "<Figure size 640x480 with 1 Axes>"
            ],
            "image/png": "[encoded data removed]"
          },
          "metadata": {}
        }
      ],
      "source": [
        "import matplotlib.pyplot as plt\n",
        "\n",
        "k_values = [3, 4, 9, 20, 47]\n",
        "\n",
        "euclidean_accuracies = countk\n",
        "manhattan_accuracies = countkm\n",
        "minkowski_accuracies = countkmi\n",
        "cosine_accuracies = countkc\n",
        "hamming_accuracies = countkh\n",
        "\n",
        "for i in range(len(k)):\n",
        "  euclidean_accuracies[i] = euclidean_accuracies[i] / 100\n",
        "  manhattan_accuracies[i] = manhattan_accuracies[i] / 100\n",
        "  minkowski_accuracies[i] = minkowski_accuracies[i] / 10\n",
        "  cosine_accuracies[i] = cosine_accuracies[i] / 50\n",
        "  hamming_accuracies[i] = hamming_accuracies[i] / 100\n",
        "\n",
        "plt.plot(k_values, euclidean_accuracies, label='Euclidean')\n",
        "plt.plot(k_values, manhattan_accuracies, label='Manhattan')\n",
        "plt.plot(k_values, minkowski_accuracies, label='Minkowski')\n",
        "plt.plot(k_values, cosine_accuracies, label='Cosine')\n",
        "plt.plot(k_values, hamming_accuracies, label='Hamming')\n",
        "\n",
        "plt.xlabel('K Value')\n",
        "plt.ylabel('Accuracy (%)')\n",
        "plt.title('Accuracy vs K value for Different Distance Metrics')\n",
        "plt.legend()\n",
        "plt.grid(True)\n",
        "plt.show()\n"
      ]
    },
    {
      "cell_type": "markdown",
      "source": [
        "#Inferences\n",
        "We get the best accuracy with Manhattan distance metric for k=20.\n",
        "\n",
        "Thus, let's see the confusion matrix, accuracy, precision and recall for the same."
      ],
      "metadata": {
        "id": "IT5Z_8Xj-IyG"
      }
    },
    {
      "cell_type": "code",
      "execution_count": null,
      "metadata": {
        "id": "KnqpBunyZbCj",
        "colab": {
          "base_uri": "https://localhost:8080/"
        },
        "outputId": "642fc428-92ea-4cb5-ded0-7b2740784d27"
      },
      "outputs": [
        {
          "output_type": "stream",
          "name": "stdout",
          "text": [
            "Testing done for 1000 images\n",
            "Testing done for 2000 images\n",
            "Testing done for 3000 images\n",
            "Testing done for 4000 images\n",
            "Testing done for 5000 images\n",
            "Testing done for 6000 images\n",
            "Testing done for 7000 images\n",
            "Testing done for 8000 images\n",
            "Testing done for 9000 images\n",
            "Testing done for 10000 images\n"
          ]
        }
      ],
      "source": [
        "confusion_matrix = np.zeros((10, 10), dtype=int)\n",
        "for i in range(10000):\n",
        "  pred = knn_with_manhattan(flattened_x_test[i], [20], flattened_x_train[:25000])\n",
        "  confusion_matrix[y_test[i][0]][pred[0]]+=1\n",
        "  if((i+1)%1000==0):\n",
        "    print(f'Testing done for {i+1} images')\n"
      ]
    },
    {
      "cell_type": "code",
      "source": [
        "print(\"Confusion Matrix:\")\n",
        "print(confusion_matrix)\n",
        "\n",
        "print(\"accuracy: \", np.trace(confusion_matrix)/np.sum(confusion_matrix))\n",
        "\n",
        "print(\"precision: \")\n",
        "for i in range(10):\n",
        "  sum=0\n",
        "  for j in range(10):\n",
        "    sum+=confusion_matrix[j][i]\n",
        "  print(confusion_matrix[i][i]/sum)\n",
        "\n",
        "print(\"recall: \")\n",
        "for i in range(10):\n",
        "  print(confusion_matrix[i][i]/np.sum(confusion_matrix[i]))"
      ],
      "metadata": {
        "colab": {
          "base_uri": "https://localhost:8080/"
        },
        "id": "XDyqI1jXAdp2",
        "outputId": "7465edf1-668e-4f52-eda3-5deb741a7385"
      },
      "execution_count": null,
      "outputs": [
        {
          "output_type": "stream",
          "name": "stdout",
          "text": [
            "Confusion Matrix:\n",
            "[[560   5 123  14  71   3  16   7 197   4]\n",
            " [349 137 138  54 103  14  65  11  99  30]\n",
            " [228   7 371  42 230  20  56   7  37   2]\n",
            " [195  10 207 156 192  48 118  27  41   6]\n",
            " [139   9 318  43 383   6  56  21  25   0]\n",
            " [133  21 231 138 195 108 107  23  35   9]\n",
            " [200   5 291  81 175  17 204  10  16   1]\n",
            " [184  21 204  77 242  17  43 144  49  19]\n",
            " [196  32  78  28  85  10  32   5 526   8]\n",
            " [289  63 132 118  60  22  38  13 129 136]]\n",
            "accuracy:  0.2725\n",
            "precision: \n",
            "0.22644561261625556\n",
            "0.44193548387096776\n",
            "0.17725752508361203\n",
            "0.20772303595206393\n",
            "0.2206221198156682\n",
            "0.4075471698113208\n",
            "0.27755102040816326\n",
            "0.5373134328358209\n",
            "0.4558058925476603\n",
            "0.6325581395348837\n",
            "recall: \n",
            "0.56\n",
            "0.137\n",
            "0.371\n",
            "0.156\n",
            "0.383\n",
            "0.108\n",
            "0.204\n",
            "0.144\n",
            "0.526\n",
            "0.136\n"
          ]
        }
      ]
    },
    {
      "cell_type": "code",
      "source": [],
      "metadata": {
        "id": "6PPTZ2dM_sgU"
      },
      "execution_count": null,
      "outputs": []
    }
  ],
  "metadata": {
    "colab": {
      "provenance": [],
      "authorship_tag": "ABX9TyMfmHOQWOAlM6FGb+tIh5kl",
      "include_colab_link": true
    },
    "kernelspec": {
      "display_name": "Python 3",
      "name": "python3"
    },
    "language_info": {
      "name": "python"
    }
  },
  "nbformat": 4,
  "nbformat_minor": 0
}