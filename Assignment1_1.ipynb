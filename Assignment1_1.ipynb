{
  "cells": [
    {
      "cell_type": "markdown",
      "metadata": {
        "id": "view-in-github",
        "colab_type": "text"
      },
      "source": [
        "<a href=\"https://colab.research.google.com/github/darishkhan/Deep_Learning_Lab/blob/main/Assignment1_1.ipynb\" target=\"_parent\"><img src=\"https://colab.research.google.com/assets/colab-badge.svg\" alt=\"Open In Colab\"/></a>"
      ]
    },
    {
      "cell_type": "markdown",
      "source": [
        "**Importing the necessary libraries**"
      ],
      "metadata": {
        "id": "EST-_rbdx0Dw"
      }
    },
    {
      "cell_type": "code",
      "execution_count": null,
      "metadata": {
        "id": "OHC_cWpqO7A0"
      },
      "outputs": [],
      "source": [
        "import pandas as pd\n",
        "import numpy as np\n",
        "import matplotlib.pyplot as plt\n",
        "import warnings\n",
        "warnings.filterwarnings('ignore')"
      ]
    },
    {
      "cell_type": "markdown",
      "source": [
        "**Reading data from the csv file**"
      ],
      "metadata": {
        "id": "o7ggIQOBx8sU"
      }
    },
    {
      "cell_type": "code",
      "execution_count": null,
      "metadata": {
        "colab": {
          "base_uri": "https://localhost:8080/"
        },
        "id": "Jz2XfS1cQOBt",
        "outputId": "d9a42284-fba5-476d-b969-0263e351fac4"
      },
      "outputs": [
        {
          "output_type": "stream",
          "name": "stdout",
          "text": [
            "Index(['id', 'diagnosis', 'radius_mean', 'texture_mean', 'perimeter_mean',\n",
            "       'area_mean', 'smoothness_mean', 'compactness_mean', 'concavity_mean',\n",
            "       'concave points_mean', 'symmetry_mean', 'fractal_dimension_mean',\n",
            "       'radius_se', 'texture_se', 'perimeter_se', 'area_se', 'smoothness_se',\n",
            "       'compactness_se', 'concavity_se', 'concave points_se', 'symmetry_se',\n",
            "       'fractal_dimension_se', 'radius_worst', 'texture_worst',\n",
            "       'perimeter_worst', 'area_worst', 'smoothness_worst',\n",
            "       'compactness_worst', 'concavity_worst', 'concave points_worst',\n",
            "       'symmetry_worst', 'fractal_dimension_worst', 'Unnamed: 32'],\n",
            "      dtype='object')\n"
          ]
        }
      ],
      "source": [
        "data = pd.read_csv(\"data.csv\")\n",
        "print(data.columns)"
      ]
    },
    {
      "cell_type": "markdown",
      "source": [
        "Partition the data into testing data and training data with a ratio of 20:80"
      ],
      "metadata": {
        "id": "W5pXU0seyCL9"
      }
    },
    {
      "cell_type": "code",
      "execution_count": null,
      "metadata": {
        "id": "F-YDoXP2QcpT"
      },
      "outputs": [],
      "source": [
        "testing_data = data.sample(frac=0.2)\n",
        "training_data = data.drop(testing_data.index)"
      ]
    },
    {
      "cell_type": "markdown",
      "source": [
        "#Defining KNN function for various metrics"
      ],
      "metadata": {
        "id": "YY8iZd8-zhFr"
      }
    },
    {
      "cell_type": "markdown",
      "source": [
        "**KNN with Euclidean distance metric**"
      ],
      "metadata": {
        "id": "OBXKyuHSyKPu"
      }
    },
    {
      "cell_type": "code",
      "execution_count": null,
      "metadata": {
        "id": "pEpzUC1YR3N7"
      },
      "outputs": [],
      "source": [
        "def knn_with_euclidean(data_point, k, training_data):\n",
        "  distances = []\n",
        "  for i in range(len(training_data)):\n",
        "    distance = np.linalg.norm(np.array(data_point[2:-1])-np.array(training_data.iloc[i, 2:-1]))\n",
        "    distances.append((distance, training_data.iloc[i, 1:2][-1]))\n",
        "  distances.sort()\n",
        "  neighbors = distances[:k]\n",
        "  malignant_count = 0\n",
        "  benign_count = 0\n",
        "  for i in range(len(neighbors)):\n",
        "    if(neighbors[i][1]=='M'):\n",
        "      malignant_count+=1;\n",
        "    else:\n",
        "      benign_count+=1;\n",
        "  if(malignant_count>benign_count):\n",
        "    return 'M'\n",
        "  else:\n",
        "    return 'B'\n"
      ]
    },
    {
      "cell_type": "markdown",
      "source": [
        "**KNN with Manhattan distance metric**"
      ],
      "metadata": {
        "id": "gjSlvozby0Vv"
      }
    },
    {
      "cell_type": "code",
      "execution_count": null,
      "metadata": {
        "id": "UCtN5WmoXmDv"
      },
      "outputs": [],
      "source": [
        "def knn_with_manhattan(data_point, k, training_data):\n",
        "  distances=[]\n",
        "  for i in range(len(training_data)):\n",
        "    distance = np.linalg.norm(np.array(data_point[2:-1])-np.array(training_data.iloc[i, 2:-1]), 1)\n",
        "    distances.append((distance, training_data.iloc[i, 1:2][-1]))\n",
        "  distances.sort()\n",
        "  neighbors = distances[:k]\n",
        "  malignant_count = 0\n",
        "  benign_count = 0\n",
        "  for i in range(len(neighbors)):\n",
        "    if(neighbors[i][1]=='M'):\n",
        "      malignant_count+=1;\n",
        "    else:\n",
        "      benign_count+=1;\n",
        "  if(malignant_count>benign_count):\n",
        "    return 'M'\n",
        "  else:\n",
        "    return 'B'"
      ]
    },
    {
      "cell_type": "markdown",
      "source": [
        "**KNN with Monkowski distance metric**"
      ],
      "metadata": {
        "id": "goR3oab9y5z0"
      }
    },
    {
      "cell_type": "code",
      "source": [
        "def minkowski_distance(x, y, p):\n",
        "  return np.sum(np.abs(x - y)**p)**(1/p)"
      ],
      "metadata": {
        "id": "cSz3NpwGy-Hk"
      },
      "execution_count": null,
      "outputs": []
    },
    {
      "cell_type": "code",
      "execution_count": null,
      "metadata": {
        "id": "zZnCuf9-X_SI"
      },
      "outputs": [],
      "source": [
        "def knn_with_minkowski(data_point, k, training_data):\n",
        "  distances=[]\n",
        "  for i in range(len(training_data)):\n",
        "    distance = minkowski_distance(np.array(data_point[2:-1]), np.array(training_data.iloc[i, 2:-1]), 3)\n",
        "    distances.append((distance, training_data.iloc[i, 1:2][-1]))\n",
        "  distances.sort()\n",
        "  neighbors = distances[:k]\n",
        "  malignant_count = 0\n",
        "  benign_count = 0\n",
        "  for i in range(len(neighbors)):\n",
        "    if(neighbors[i][1]=='M'):\n",
        "      malignant_count+=1;\n",
        "    else:\n",
        "      benign_count+=1;\n",
        "  if(malignant_count>benign_count):\n",
        "    return 'M'\n",
        "  else:\n",
        "    return 'B'"
      ]
    },
    {
      "cell_type": "markdown",
      "source": [
        "**KNN with Cosine distance metric**"
      ],
      "metadata": {
        "id": "Rb8C_AiPzEgb"
      }
    },
    {
      "cell_type": "code",
      "source": [
        "def cosine_similarity(x, y):\n",
        "  return np.dot(x, y) / (np.linalg.norm(x) * np.linalg.norm(y))"
      ],
      "metadata": {
        "id": "fPPfsbqRzIJj"
      },
      "execution_count": null,
      "outputs": []
    },
    {
      "cell_type": "code",
      "execution_count": null,
      "metadata": {
        "id": "qE_j6ipHYGus"
      },
      "outputs": [],
      "source": [
        "def knn_with_cosine(data_point, k, training_data):\n",
        "  distances=[]\n",
        "  for i in range(len(training_data)):\n",
        "    distance = cosine_similarity(np.array(data_point[2:-1]), np.array(training_data.iloc[i, 2:-1]))\n",
        "    distances.append((distance, training_data.iloc[i, 1:2][-1]))\n",
        "  distances.sort()\n",
        "  neighbors = distances[:k]\n",
        "  malignant_count = 0\n",
        "  benign_count = 0\n",
        "  for i in range(len(neighbors)):\n",
        "    if(neighbors[i][1]=='M'):\n",
        "      malignant_count+=1;\n",
        "    else:\n",
        "      benign_count+=1;\n",
        "  if(malignant_count>benign_count):\n",
        "    return 'M'\n",
        "  else:\n",
        "    return 'B'"
      ]
    },
    {
      "cell_type": "markdown",
      "source": [
        "**KNN with Hamming Distance Metric**"
      ],
      "metadata": {
        "id": "PJsVQOA5zL0b"
      }
    },
    {
      "cell_type": "code",
      "source": [
        "def hamming_distance(x, y):\n",
        "  distance = 0\n",
        "  for i in range(len(x)):\n",
        "    if x[i] != y[i]:\n",
        "      distance += 1\n",
        "  return distance"
      ],
      "metadata": {
        "id": "_7QKsK0JzP2v"
      },
      "execution_count": null,
      "outputs": []
    },
    {
      "cell_type": "code",
      "execution_count": null,
      "metadata": {
        "id": "i0KZrmlsYhoI"
      },
      "outputs": [],
      "source": [
        "def knn_with_hamming(data_point, k, training_data):\n",
        "  distances=[]\n",
        "  for i in range(len(training_data)):\n",
        "    distance = hamming_distance(np.array(data_point[2:-1]), np.array(training_data.iloc[i, 2:-1]))\n",
        "    distances.append((distance, training_data.iloc[i, 1:2][-1]))\n",
        "  distances.sort()\n",
        "  neighbors = distances[:k]\n",
        "  malignant_count = 0\n",
        "  benign_count = 0\n",
        "  for i in range(len(neighbors)):\n",
        "    if(neighbors[i][1]=='M'):\n",
        "      malignant_count+=1;\n",
        "    else:\n",
        "      benign_count+=1;\n",
        "  if(malignant_count>benign_count):\n",
        "    return 'M'\n",
        "  else:\n",
        "    return 'B'"
      ]
    },
    {
      "cell_type": "markdown",
      "source": [
        "#Using Euclidean Distance"
      ],
      "metadata": {
        "id": "-Mlu3GERdG7x"
      }
    },
    {
      "cell_type": "code",
      "execution_count": null,
      "metadata": {
        "colab": {
          "base_uri": "https://localhost:8080/"
        },
        "id": "6ZFgRnCPTlSP",
        "outputId": "2502a00a-ea2c-4831-96fc-1c5f85f88729"
      },
      "outputs": [
        {
          "output_type": "stream",
          "name": "stdout",
          "text": [
            "Accuracy while using Euclidean distance : \n",
            "for k=3:  90.35087719298245\n",
            "for k=4:  92.10526315789474\n",
            "for k=9:  92.98245614035088\n",
            "for k=20:  91.2280701754386\n",
            "for k=47:  89.47368421052632\n"
          ]
        }
      ],
      "source": [
        "print(\"Accuracy while using Euclidean distance : \")\n",
        "\n",
        "correct=0\n",
        "for i in range(len(testing_data)):\n",
        "  if(knn_with_euclidean(testing_data.iloc[i], 3, training_data)==testing_data.iloc[i, 1:2][-1]):\n",
        "    correct+=1\n",
        "print(\"for k=3: \", (correct*100)/len(testing_data))\n",
        "\n",
        "correct=0\n",
        "for i in range(len(testing_data)):\n",
        "  if(knn_with_euclidean(testing_data.iloc[i], 4, training_data)==testing_data.iloc[i, 1:2][-1]):\n",
        "    correct+=1\n",
        "print(\"for k=4: \", (correct*100)/len(testing_data))\n",
        "\n",
        "correct=0\n",
        "for i in range(len(testing_data)):\n",
        "  if(knn_with_euclidean(testing_data.iloc[i], 9, training_data)==testing_data.iloc[i, 1:2][-1]):\n",
        "    correct+=1\n",
        "print(\"for k=9: \", (correct*100)/len(testing_data))\n",
        "\n",
        "correct=0\n",
        "for i in range(len(testing_data)):\n",
        "  if(knn_with_euclidean(testing_data.iloc[i], 20, training_data)==testing_data.iloc[i, 1:2][-1]):\n",
        "    correct+=1\n",
        "print(\"for k=20: \", (correct*100)/len(testing_data))\n",
        "\n",
        "correct=0\n",
        "for i in range(len(testing_data)):\n",
        "  if(knn_with_euclidean(testing_data.iloc[i], 47, training_data)==testing_data.iloc[i, 1:2][-1]):\n",
        "    correct+=1\n",
        "print(\"for k=47: \", (correct*100)/len(testing_data))\n"
      ]
    },
    {
      "cell_type": "markdown",
      "source": [
        "#Manhattan Distance"
      ],
      "metadata": {
        "id": "685ZUInTgPoq"
      }
    },
    {
      "cell_type": "code",
      "execution_count": null,
      "metadata": {
        "id": "LHgSHKtfUX-2",
        "colab": {
          "base_uri": "https://localhost:8080/"
        },
        "outputId": "5f3b2127-fbff-469a-f058-3611e28814ec"
      },
      "outputs": [
        {
          "output_type": "stream",
          "name": "stdout",
          "text": [
            "Accuracy while using Manhattan distance : \n",
            "for k=3:  92.98245614035088\n",
            "for k=4:  91.2280701754386\n",
            "for k=9:  92.10526315789474\n",
            "for k=20:  92.10526315789474\n",
            "for k=47:  89.47368421052632\n"
          ]
        }
      ],
      "source": [
        "print(\"Accuracy while using Manhattan distance : \")\n",
        "\n",
        "correct=0\n",
        "for i in range(len(testing_data)):\n",
        "  if(knn_with_manhattan(testing_data.iloc[i], 3, training_data)==testing_data.iloc[i, 1:2][-1]):\n",
        "    correct+=1\n",
        "print(\"for k=3: \", (correct*100)/len(testing_data))\n",
        "\n",
        "correct=0\n",
        "for i in range(len(testing_data)):\n",
        "  if(knn_with_manhattan(testing_data.iloc[i], 4, training_data)==testing_data.iloc[i, 1:2][-1]):\n",
        "    correct+=1\n",
        "print(\"for k=4: \", (correct*100)/len(testing_data))\n",
        "\n",
        "correct=0\n",
        "for i in range(len(testing_data)):\n",
        "  if(knn_with_manhattan(testing_data.iloc[i], 9, training_data)==testing_data.iloc[i, 1:2][-1]):\n",
        "    correct+=1\n",
        "print(\"for k=9: \", (correct*100)/len(testing_data))\n",
        "\n",
        "correct=0\n",
        "for i in range(len(testing_data)):\n",
        "  if(knn_with_manhattan(testing_data.iloc[i], 20, training_data)==testing_data.iloc[i, 1:2][-1]):\n",
        "    correct+=1\n",
        "print(\"for k=20: \", (correct*100)/len(testing_data))\n",
        "\n",
        "\n",
        "correct=0\n",
        "for i in range(len(testing_data)):\n",
        "  if(knn_with_manhattan(testing_data.iloc[i], 47, training_data)==testing_data.iloc[i, 1:2][-1]):\n",
        "    correct+=1\n",
        "print(\"for k=47: \", (correct*100)/len(testing_data))\n",
        "\n"
      ]
    },
    {
      "cell_type": "markdown",
      "source": [
        "#Minkowski Distance"
      ],
      "metadata": {
        "id": "cQICduh3hDXZ"
      }
    },
    {
      "cell_type": "code",
      "source": [
        "print(\"Accuracy while using Minkowski distance : \")\n",
        "\n",
        "correct=0\n",
        "for i in range(len(testing_data)):\n",
        "  if(knn_with_minkowski(testing_data.iloc[i], 3, training_data)==testing_data.iloc[i, 1:2][-1]):\n",
        "    correct+=1\n",
        "print(\"for k=3: \", (correct*100)/len(testing_data))\n",
        "\n",
        "correct=0\n",
        "for i in range(len(testing_data)):\n",
        "  if(knn_with_minkowski(testing_data.iloc[i], 4, training_data)==testing_data.iloc[i, 1:2][-1]):\n",
        "    correct+=1\n",
        "print(\"for k=4: \", (correct*100)/len(testing_data))\n",
        "\n",
        "correct=0\n",
        "for i in range(len(testing_data)):\n",
        "  if(knn_with_minkowski(testing_data.iloc[i], 9, training_data)==testing_data.iloc[i, 1:2][-1]):\n",
        "    correct+=1\n",
        "print(\"for k=9: \", (correct*100)/len(testing_data))\n",
        "\n",
        "correct=0\n",
        "for i in range(len(testing_data)):\n",
        "  if(knn_with_minkowski(testing_data.iloc[i], 20, training_data)==testing_data.iloc[i, 1:2][-1]):\n",
        "    correct+=1\n",
        "print(\"for k=20: \", (correct*100)/len(testing_data))\n",
        "\n",
        "correct=0\n",
        "for i in range(len(testing_data)):\n",
        "  if(knn_with_minkowski(testing_data.iloc[i], 47, training_data)==testing_data.iloc[i, 1:2][-1]):\n",
        "    correct+=1\n",
        "print(\"for k=47: \", (correct*100)/len(testing_data))"
      ],
      "metadata": {
        "colab": {
          "base_uri": "https://localhost:8080/"
        },
        "id": "EeKBZKbQg73H",
        "outputId": "3550be46-c55f-4012-c4fe-5701d756dedc"
      },
      "execution_count": null,
      "outputs": [
        {
          "output_type": "stream",
          "name": "stdout",
          "text": [
            "Accuracy while using Minkowski distance : \n",
            "for k=3:  90.35087719298245\n",
            "for k=4:  91.2280701754386\n",
            "for k=9:  92.98245614035088\n",
            "for k=20:  91.2280701754386\n",
            "for k=47:  89.47368421052632\n"
          ]
        }
      ]
    },
    {
      "cell_type": "markdown",
      "source": [
        "#Cosine Distance"
      ],
      "metadata": {
        "id": "ED6Vmu-PiIxU"
      }
    },
    {
      "cell_type": "code",
      "source": [
        "print(\"Accuracy while using Cosine distance : \")\n",
        "\n",
        "correct=0\n",
        "for i in range(len(testing_data)):\n",
        "  if(knn_with_cosine(testing_data.iloc[i], 3, training_data)==testing_data.iloc[i, 1:2][-1]):\n",
        "    correct+=1\n",
        "print(\"for k=3: \", (correct*100)/len(testing_data))\n",
        "\n",
        "correct=0\n",
        "for i in range(len(testing_data)):\n",
        "  if(knn_with_cosine(testing_data.iloc[i], 4, training_data)==testing_data.iloc[i, 1:2][-1]):\n",
        "    correct+=1\n",
        "print(\"for k=4: \", (correct*100)/len(testing_data))\n",
        "\n",
        "correct=0\n",
        "for i in range(len(testing_data)):\n",
        "  if(knn_with_cosine(testing_data.iloc[i], 9, training_data)==testing_data.iloc[i, 1:2][-1]):\n",
        "    correct+=1\n",
        "print(\"for k=9: \", (correct*100)/len(testing_data))\n",
        "\n",
        "correct=0\n",
        "for i in range(len(testing_data)):\n",
        "  if(knn_with_cosine(testing_data.iloc[i], 20, training_data)==testing_data.iloc[i, 1:2][-1]):\n",
        "    correct+=1\n",
        "print(\"for k=20: \", (correct*100)/len(testing_data))\n",
        "\n",
        "correct=0\n",
        "for i in range(len(testing_data)):\n",
        "  if(knn_with_cosine(testing_data.iloc[i], 47, training_data)==testing_data.iloc[i, 1:2][-1]):\n",
        "    correct+=1\n",
        "print(\"for k=47: \", (correct*100)/len(testing_data))"
      ],
      "metadata": {
        "colab": {
          "base_uri": "https://localhost:8080/"
        },
        "id": "7Hkz3QWoiIHz",
        "outputId": "39947015-af69-4dc5-f0af-f50e1bbac901"
      },
      "execution_count": null,
      "outputs": [
        {
          "output_type": "stream",
          "name": "stdout",
          "text": [
            "Accuracy while using Cosine distance : \n",
            "for k=3:  22.80701754385965\n",
            "for k=4:  14.035087719298245\n",
            "for k=9:  11.403508771929825\n",
            "for k=20:  7.894736842105263\n",
            "for k=47:  6.140350877192983\n"
          ]
        }
      ]
    },
    {
      "cell_type": "markdown",
      "source": [
        "#Hamming Distance"
      ],
      "metadata": {
        "id": "gyuIeKWqitg0"
      }
    },
    {
      "cell_type": "code",
      "source": [
        "print(\"Accuracy while using Hamming distance : \")\n",
        "\n",
        "correct=0\n",
        "for i in range(len(testing_data)):\n",
        "  if(knn_with_hamming(testing_data.iloc[i], 3, training_data)==testing_data.iloc[i, 1:2][-1]):\n",
        "    correct+=1\n",
        "print(\"for k=3: \", (correct*100)/len(testing_data))\n",
        "\n",
        "correct=0\n",
        "for i in range(len(testing_data)):\n",
        "  if(knn_with_hamming(testing_data.iloc[i], 4, training_data)==testing_data.iloc[i, 1:2][-1]):\n",
        "    correct+=1\n",
        "print(\"for k=4: \", (correct*100)/len(testing_data))\n",
        "\n",
        "correct=0\n",
        "for i in range(len(testing_data)):\n",
        "  if(knn_with_hamming(testing_data.iloc[i], 9, training_data)==testing_data.iloc[i, 1:2][-1]):\n",
        "    correct+=1\n",
        "print(\"for k=9: \", (correct*100)/len(testing_data))\n",
        "\n",
        "correct=0\n",
        "for i in range(len(testing_data)):\n",
        "  if(knn_with_hamming(testing_data.iloc[i], 20, training_data)==testing_data.iloc[i, 1:2][-1]):\n",
        "    correct+=1\n",
        "print(\"for k=20: \", (correct*100)/len(testing_data))\n",
        "\n",
        "correct=0\n",
        "for i in range(len(testing_data)):\n",
        "  if(knn_with_hamming(testing_data.iloc[i], 47, training_data)==testing_data.iloc[i, 1:2][-1]):\n",
        "    correct+=1\n",
        "print(\"for k=47: \", (correct*100)/len(testing_data))"
      ],
      "metadata": {
        "colab": {
          "base_uri": "https://localhost:8080/"
        },
        "id": "6LNsj40fispV",
        "outputId": "9b49ab40-8cfc-490a-ae9a-b2fb8e4c4391"
      },
      "execution_count": null,
      "outputs": [
        {
          "output_type": "stream",
          "name": "stdout",
          "text": [
            "Accuracy while using Hamming distance : \n",
            "for k=3:  70.17543859649123\n",
            "for k=4:  70.17543859649123\n",
            "for k=9:  67.54385964912281\n",
            "for k=20:  66.66666666666667\n",
            "for k=47:  66.66666666666667\n"
          ]
        }
      ]
    },
    {
      "cell_type": "markdown",
      "source": [
        "#Result:\n",
        "We got the highest accuracy for k=47 in Manhattan and Minkowski metric.\n",
        "\n",
        "*Note: This may change for every execution as the testing and training data are randomly partitioned.*\n",
        "\n",
        "\n"
      ],
      "metadata": {
        "id": "CUIL2ilYkvDa"
      }
    },
    {
      "cell_type": "markdown",
      "source": [
        "Confusion Matrix for k=47, Manhattan Distance"
      ],
      "metadata": {
        "id": "pyyN3sMSk6Oh"
      }
    },
    {
      "cell_type": "code",
      "source": [
        "tp=0\n",
        "tn=0\n",
        "fp=0\n",
        "fn=0\n",
        "for i in range(len(testing_data)):\n",
        "  predicted = knn_with_manhattan(testing_data.iloc[i], 47, training_data)\n",
        "  actual = testing_data.iloc[i, 1:2][-1]\n",
        "  if predicted == 'M' and actual == 'M':\n",
        "    tp += 1\n",
        "  elif predicted == 'B' and actual == 'B':\n",
        "    tn += 1\n",
        "  elif predicted == 'M' and actual == 'B':\n",
        "    fp += 1\n",
        "  else:\n",
        "    fn += 1\n",
        "\n",
        "print(\"Confusion Matrix:\")\n",
        "print(\"                Actual\")\n",
        "print(\"Predicted      M      B\")\n",
        "print(\"     M        \", tp, \"   \", fp)\n",
        "print(\"     B        \", fn, \"   \", tn)\n",
        "\n",
        "print(\"Recall: \", tp/(tp+fn))\n",
        "print(\"Precision: \", tp/(tp+fp))\n",
        "print(\"Accuracy: \", (tp+tn)/(tp+tn+fp+fn))\n"
      ],
      "metadata": {
        "colab": {
          "base_uri": "https://localhost:8080/"
        },
        "id": "jZGtA2wvjGON",
        "outputId": "13ffdf49-4377-4b73-a274-44ef1bd25653"
      },
      "execution_count": null,
      "outputs": [
        {
          "output_type": "stream",
          "name": "stdout",
          "text": [
            "Confusion Matrix:\n",
            "                Actual\n",
            "Predicted      M      B\n",
            "     M         29     3\n",
            "     B         9     73\n",
            "Recall:  0.7631578947368421\n",
            "Precision:  0.90625\n",
            "Accuracy:  0.8947368421052632\n"
          ]
        }
      ]
    },
    {
      "cell_type": "code",
      "source": [
        "k_values = [3, 4, 9, 20, 47]\n",
        "\n",
        "euclidean_accuracies = []\n",
        "manhattan_accuracies = []\n",
        "minkowski_accuracies = []\n",
        "cosine_accuracies = []\n",
        "hamming_accuracies = []\n",
        "\n",
        "for k in k_values:\n",
        "  correct_euclidean = 0\n",
        "  correct_manhattan = 0\n",
        "  correct_minkowski = 0\n",
        "  correct_cosine = 0\n",
        "  correct_hamming = 0\n",
        "\n",
        "  for i in range(len(testing_data)):\n",
        "    if knn_with_euclidean(testing_data.iloc[i], k, training_data) == testing_data.iloc[i, 1:2][-1]:\n",
        "      correct_euclidean += 1\n",
        "    if knn_with_manhattan(testing_data.iloc[i], k, training_data) == testing_data.iloc[i, 1:2][-1]:\n",
        "      correct_manhattan += 1\n",
        "    if knn_with_minkowski(testing_data.iloc[i], k, training_data) == testing_data.iloc[i, 1:2][-1]:\n",
        "      correct_minkowski += 1\n",
        "    if knn_with_cosine(testing_data.iloc[i], k, training_data) == testing_data.iloc[i, 1:2][-1]:\n",
        "      correct_cosine += 1\n",
        "    if knn_with_hamming(testing_data.iloc[i], k, training_data) == testing_data.iloc[i, 1:2][-1]:\n",
        "      correct_hamming += 1\n",
        "\n",
        "  euclidean_accuracies.append((correct_euclidean * 100) / len(testing_data))\n",
        "  manhattan_accuracies.append((correct_manhattan * 100) / len(testing_data))\n",
        "  minkowski_accuracies.append((correct_minkowski * 100) / len(testing_data))\n",
        "  cosine_accuracies.append((correct_cosine * 100) / len(testing_data))\n",
        "  hamming_accuracies.append((correct_hamming * 100) / len(testing_data))\n",
        "\n",
        "plt.plot(k_values, euclidean_accuracies, label='Euclidean')\n",
        "plt.plot(k_values, manhattan_accuracies, label='Manhattan')\n",
        "plt.plot(k_values, minkowski_accuracies, label='Minkowski')\n",
        "plt.plot(k_values, cosine_accuracies, label='Cosine')\n",
        "plt.plot(k_values, hamming_accuracies, label='Hamming')\n",
        "\n",
        "plt.xlabel('K Value')\n",
        "plt.ylabel('Accuracy (%)')\n",
        "plt.title('K Value vs Accuracy for Different Distance Metrics')\n",
        "plt.legend()\n",
        "plt.grid(True)\n",
        "plt.show()\n"
      ],
      "metadata": {
        "colab": {
          "base_uri": "https://localhost:8080/",
          "height": 472
        },
        "id": "YNLZfcnolR2z",
        "outputId": "ee6d8d42-506a-477c-e908-e71c6899b2fe"
      },
      "execution_count": null,
      "outputs": [
        {
          "output_type": "display_data",
          "data": {
            "text/plain": [
              "<Figure size 640x480 with 1 Axes>"
            ],
            "image/png": "[encoded data removed]"
          },
          "metadata": {}
        }
      ]
    },
    {
      "cell_type": "code",
      "source": [],
      "metadata": {
        "id": "QD69Hx1OY_Bw"
      },
      "execution_count": null,
      "outputs": []
    }
  ],
  "metadata": {
    "colab": {
      "provenance": [],
      "gpuType": "T4",
      "include_colab_link": true
    },
    "kernelspec": {
      "display_name": "Python 3",
      "name": "python3"
    },
    "language_info": {
      "name": "python"
    }
  },
  "nbformat": 4,
  "nbformat_minor": 0
}