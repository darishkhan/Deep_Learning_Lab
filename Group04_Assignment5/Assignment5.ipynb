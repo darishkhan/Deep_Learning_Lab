{
  "nbformat": 4,
  "nbformat_minor": 0,
  "metadata": {
    "colab": {
      "provenance": [],
      "gpuType": "T4"
    },
    "kernelspec": {
      "name": "python3",
      "display_name": "Python 3"
    },
    "language_info": {
      "name": "python"
    },
    "accelerator": "GPU"
  },
  "cells": [
    {
      "cell_type": "code",
      "execution_count": 46,
      "metadata": {
        "colab": {
          "base_uri": "https://localhost:8080/"
        },
        "id": "fAwFn1nHGKq4",
        "outputId": "448215a0-b9ee-4107-c8ce-05d6359e3176"
      },
      "outputs": [
        {
          "output_type": "stream",
          "name": "stdout",
          "text": [
            "Requirement already satisfied: datasets in /usr/local/lib/python3.10/dist-packages (3.1.0)\n",
            "Requirement already satisfied: filelock in /usr/local/lib/python3.10/dist-packages (from datasets) (3.16.1)\n",
            "Requirement already satisfied: numpy>=1.17 in /usr/local/lib/python3.10/dist-packages (from datasets) (1.26.4)\n",
            "Requirement already satisfied: pyarrow>=15.0.0 in /usr/local/lib/python3.10/dist-packages (from datasets) (17.0.0)\n",
            "Requirement already satisfied: dill<0.3.9,>=0.3.0 in /usr/local/lib/python3.10/dist-packages (from datasets) (0.3.8)\n",
            "Requirement already satisfied: pandas in /usr/local/lib/python3.10/dist-packages (from datasets) (2.2.2)\n",
            "Requirement already satisfied: requests>=2.32.2 in /usr/local/lib/python3.10/dist-packages (from datasets) (2.32.3)\n",
            "Requirement already satisfied: tqdm>=4.66.3 in /usr/local/lib/python3.10/dist-packages (from datasets) (4.66.6)\n",
            "Requirement already satisfied: xxhash in /usr/local/lib/python3.10/dist-packages (from datasets) (3.5.0)\n",
            "Requirement already satisfied: multiprocess<0.70.17 in /usr/local/lib/python3.10/dist-packages (from datasets) (0.70.16)\n",
            "Requirement already satisfied: fsspec<=2024.9.0,>=2023.1.0 in /usr/local/lib/python3.10/dist-packages (from fsspec[http]<=2024.9.0,>=2023.1.0->datasets) (2024.9.0)\n",
            "Requirement already satisfied: aiohttp in /usr/local/lib/python3.10/dist-packages (from datasets) (3.11.1)\n",
            "Requirement already satisfied: huggingface-hub>=0.23.0 in /usr/local/lib/python3.10/dist-packages (from datasets) (0.26.2)\n",
            "Requirement already satisfied: packaging in /usr/local/lib/python3.10/dist-packages (from datasets) (24.2)\n",
            "Requirement already satisfied: pyyaml>=5.1 in /usr/local/lib/python3.10/dist-packages (from datasets) (6.0.2)\n",
            "Requirement already satisfied: aiohappyeyeballs>=2.3.0 in /usr/local/lib/python3.10/dist-packages (from aiohttp->datasets) (2.4.3)\n",
            "Requirement already satisfied: aiosignal>=1.1.2 in /usr/local/lib/python3.10/dist-packages (from aiohttp->datasets) (1.3.1)\n",
            "Requirement already satisfied: attrs>=17.3.0 in /usr/local/lib/python3.10/dist-packages (from aiohttp->datasets) (24.2.0)\n",
            "Requirement already satisfied: frozenlist>=1.1.1 in /usr/local/lib/python3.10/dist-packages (from aiohttp->datasets) (1.5.0)\n",
            "Requirement already satisfied: multidict<7.0,>=4.5 in /usr/local/lib/python3.10/dist-packages (from aiohttp->datasets) (6.1.0)\n",
            "Requirement already satisfied: propcache>=0.2.0 in /usr/local/lib/python3.10/dist-packages (from aiohttp->datasets) (0.2.0)\n",
            "Requirement already satisfied: yarl<2.0,>=1.17.0 in /usr/local/lib/python3.10/dist-packages (from aiohttp->datasets) (1.17.1)\n",
            "Requirement already satisfied: async-timeout<6.0,>=4.0 in /usr/local/lib/python3.10/dist-packages (from aiohttp->datasets) (4.0.3)\n",
            "Requirement already satisfied: typing-extensions>=3.7.4.3 in /usr/local/lib/python3.10/dist-packages (from huggingface-hub>=0.23.0->datasets) (4.12.2)\n",
            "Requirement already satisfied: charset-normalizer<4,>=2 in /usr/local/lib/python3.10/dist-packages (from requests>=2.32.2->datasets) (3.4.0)\n",
            "Requirement already satisfied: idna<4,>=2.5 in /usr/local/lib/python3.10/dist-packages (from requests>=2.32.2->datasets) (3.10)\n",
            "Requirement already satisfied: urllib3<3,>=1.21.1 in /usr/local/lib/python3.10/dist-packages (from requests>=2.32.2->datasets) (2.2.3)\n",
            "Requirement already satisfied: certifi>=2017.4.17 in /usr/local/lib/python3.10/dist-packages (from requests>=2.32.2->datasets) (2024.8.30)\n",
            "Requirement already satisfied: python-dateutil>=2.8.2 in /usr/local/lib/python3.10/dist-packages (from pandas->datasets) (2.8.2)\n",
            "Requirement already satisfied: pytz>=2020.1 in /usr/local/lib/python3.10/dist-packages (from pandas->datasets) (2024.2)\n",
            "Requirement already satisfied: tzdata>=2022.7 in /usr/local/lib/python3.10/dist-packages (from pandas->datasets) (2024.2)\n",
            "Requirement already satisfied: six>=1.5 in /usr/local/lib/python3.10/dist-packages (from python-dateutil>=2.8.2->pandas->datasets) (1.16.0)\n"
          ]
        }
      ],
      "source": [
        "!pip install datasets\n"
      ]
    },
    {
      "cell_type": "markdown",
      "source": [
        "Import headers"
      ],
      "metadata": {
        "id": "LZJVpCyVPkyQ"
      }
    },
    {
      "cell_type": "code",
      "source": [
        "import torch\n",
        "from torch import nn\n",
        "from torch.utils.data import Dataset, DataLoader, random_split\n",
        "from datasets import load_dataset\n",
        "from collections import Counter\n",
        "import re\n",
        "from itertools import chain\n",
        "import matplotlib.pyplot as plt\n",
        "from sklearn.metrics import precision_recall_fscore_support"
      ],
      "metadata": {
        "id": "zNtIbI5FKsh5"
      },
      "execution_count": 47,
      "outputs": []
    },
    {
      "cell_type": "code",
      "source": [
        "# Hyperparameters\n",
        "BATCH_SIZE = 64\n",
        "EMBEDDING_DIM = 128\n",
        "HIDDEN_DIM = 256\n",
        "NUM_HEADS = 4\n",
        "NUM_CLASSES = 4\n",
        "NUM_LAYERS = 2\n",
        "DROPOUT = 0.1\n",
        "EPOCHS = 5\n",
        "LR = 0.001\n",
        "MAX_SEQ_LEN = 128\n",
        "VALIDATION_SPLIT = 0.2"
      ],
      "metadata": {
        "id": "gdl_iDDGKv6H"
      },
      "execution_count": 48,
      "outputs": []
    },
    {
      "cell_type": "code",
      "source": [
        "ag_news = load_dataset(\"ag_news\")\n",
        "train_data = ag_news['train']\n",
        "test_data = ag_news['test']"
      ],
      "metadata": {
        "id": "n4_Ig8hjKyLF"
      },
      "execution_count": 49,
      "outputs": []
    },
    {
      "cell_type": "code",
      "source": [
        "def tokenize(text):\n",
        "    text = re.sub(r'[^\\w\\s]', '', text.lower())\n",
        "    return text.split()"
      ],
      "metadata": {
        "id": "ZmjTn2EILGkT"
      },
      "execution_count": 50,
      "outputs": []
    },
    {
      "cell_type": "code",
      "source": [
        "def build_vocab(dataset, tokenizer, min_freq=1):\n",
        "    counter = Counter(chain.from_iterable(tokenizer(text) for text in dataset['text']))\n",
        "    vocab = {word: idx + 2 for idx, (word, freq) in enumerate(counter.items()) if freq >= min_freq}\n",
        "    vocab[\"<unk>\"] = 0\n",
        "    vocab[\"<pad>\"] = 1\n",
        "    return vocab\n",
        "\n",
        "vocab = build_vocab(train_data, tokenize)\n",
        "vocab_size = len(vocab)"
      ],
      "metadata": {
        "id": "IlZc21KvMHdA"
      },
      "execution_count": 51,
      "outputs": []
    },
    {
      "cell_type": "code",
      "source": [
        "def encode(text, vocab, tokenizer, max_len=MAX_SEQ_LEN):\n",
        "    tokens = tokenizer(text)\n",
        "    encoded = [vocab.get(token, vocab[\"<unk>\"]) for token in tokens[:max_len]]\n",
        "    padding = [vocab[\"<pad>\"]] * (max_len - len(encoded))\n",
        "    return encoded + padding"
      ],
      "metadata": {
        "id": "BagvcENYMKq4"
      },
      "execution_count": 52,
      "outputs": []
    },
    {
      "cell_type": "code",
      "source": [
        "class AGNewsDataset(Dataset):\n",
        "    def __init__(self, data, vocab, tokenizer, max_len=MAX_SEQ_LEN):\n",
        "        self.labels = torch.tensor(data['label'], dtype=torch.long)\n",
        "        self.texts = torch.tensor([encode(text, vocab, tokenizer, max_len) for text in data['text']], dtype=torch.long)\n",
        "\n",
        "    def __len__(self):\n",
        "        return len(self.labels)\n",
        "\n",
        "    def __getitem__(self, idx):\n",
        "        return self.labels[idx], self.texts[idx]"
      ],
      "metadata": {
        "id": "ZMeK8jlXMM8A"
      },
      "execution_count": 53,
      "outputs": []
    },
    {
      "cell_type": "code",
      "source": [
        "full_train_dataset = AGNewsDataset(train_data, vocab, tokenize)\n",
        "test_dataset = AGNewsDataset(test_data, vocab, tokenize)\n",
        "\n",
        "val_size = int(len(full_train_dataset) * VALIDATION_SPLIT)\n",
        "train_size = len(full_train_dataset) - val_size\n",
        "train_dataset, val_dataset = random_split(full_train_dataset, [train_size, val_size])\n",
        "\n",
        "# Create DataLoaders\n",
        "train_loader = DataLoader(train_dataset, batch_size=BATCH_SIZE, shuffle=True)\n",
        "val_loader = DataLoader(val_dataset, batch_size=BATCH_SIZE, shuffle=False)\n",
        "test_loader = DataLoader(test_dataset, batch_size=BATCH_SIZE, shuffle=False)"
      ],
      "metadata": {
        "id": "GEc5HJq3MOs5"
      },
      "execution_count": 54,
      "outputs": []
    },
    {
      "cell_type": "code",
      "source": [
        "class TextClassificationModel(nn.Module):\n",
        "    def __init__(self, vocab_size, embed_dim, num_classes, hidden_dim, num_heads, num_layers, dropout):\n",
        "        super(TextClassificationModel, self).__init__()\n",
        "        self.embedding = nn.Embedding(vocab_size, embed_dim)\n",
        "        encoder_layer = nn.TransformerEncoderLayer(embed_dim, num_heads, hidden_dim, dropout)\n",
        "        self.transformer = nn.TransformerEncoder(encoder_layer, num_layers)\n",
        "        self.fc = nn.Linear(embed_dim, num_classes)\n",
        "        self.dropout = nn.Dropout(dropout)\n",
        "\n",
        "    def forward(self, text):\n",
        "        embedded = self.embedding(text)\n",
        "        transformed = self.transformer(embedded.permute(1, 0, 2))\n",
        "        return self.fc(self.dropout(transformed[0]))\n"
      ],
      "metadata": {
        "id": "t06C9JqhMRkT"
      },
      "execution_count": 55,
      "outputs": []
    },
    {
      "cell_type": "code",
      "source": [
        "device = torch.device(\"cuda\" if torch.cuda.is_available() else \"cpu\")\n",
        "model = TextClassificationModel(vocab_size, EMBEDDING_DIM, NUM_CLASSES, HIDDEN_DIM, NUM_HEADS, NUM_LAYERS, DROPOUT).to(device)\n",
        "criterion = nn.CrossEntropyLoss()\n",
        "optimizer = torch.optim.Adam(model.parameters(), lr=LR)\n"
      ],
      "metadata": {
        "colab": {
          "base_uri": "https://localhost:8080/"
        },
        "id": "aR88FvcEMT4Y",
        "outputId": "46336e44-4bb4-4230-f723-c89a251a40f7"
      },
      "execution_count": 56,
      "outputs": [
        {
          "output_type": "stream",
          "name": "stderr",
          "text": [
            "/usr/local/lib/python3.10/dist-packages/torch/nn/modules/transformer.py:379: UserWarning: enable_nested_tensor is True, but self.use_nested_tensor is False because encoder_layer.self_attn.batch_first was not True(use batch_first for better inference performance)\n",
            "  warnings.warn(\n"
          ]
        }
      ]
    },
    {
      "cell_type": "code",
      "source": [
        "# Training Loop\n",
        "def train_epoch(loader):\n",
        "    model.train()\n",
        "    total_acc, total_loss = 0, 0\n",
        "    for labels, text in loader:\n",
        "        labels, text = labels.to(device), text.to(device)\n",
        "        optimizer.zero_grad()\n",
        "        output = model(text)\n",
        "        loss = criterion(output, labels)\n",
        "        loss.backward()\n",
        "        optimizer.step()\n",
        "        total_acc += (output.argmax(1) == labels).sum().item()\n",
        "        total_loss += loss.item()\n",
        "    return total_acc / len(loader.dataset), total_loss / len(loader)\n"
      ],
      "metadata": {
        "id": "FhDIY5dMMW_j"
      },
      "execution_count": 57,
      "outputs": []
    },
    {
      "cell_type": "code",
      "source": [
        "def evaluate(loader):\n",
        "    model.eval()\n",
        "    total_acc, total_loss = 0, 0\n",
        "    all_labels, all_preds = [], []\n",
        "    with torch.no_grad():\n",
        "        for labels, text in loader:\n",
        "            labels, text = labels.to(device), text.to(device)\n",
        "            output = model(text)\n",
        "            loss = criterion(output, labels)\n",
        "            total_acc += (output.argmax(1) == labels).sum().item()\n",
        "            total_loss += loss.item()\n",
        "            all_labels.extend(labels.cpu().numpy())\n",
        "            all_preds.extend(output.argmax(1).cpu().numpy())\n",
        "    return total_acc / len(loader.dataset), total_loss / len(loader), all_labels, all_preds\n"
      ],
      "metadata": {
        "id": "fNBq97b1MaAo"
      },
      "execution_count": 58,
      "outputs": []
    },
    {
      "cell_type": "code",
      "source": [
        "train_accuracies, train_losses = [], []\n",
        "val_accuracies, val_losses = [], []\n",
        "\n",
        "for epoch in range(EPOCHS):\n",
        "    train_acc, train_loss = train_epoch(train_loader)\n",
        "    val_acc, val_loss, _, _ = evaluate(val_loader)\n",
        "\n",
        "    train_accuracies.append(train_acc)\n",
        "    train_losses.append(train_loss)\n",
        "    val_accuracies.append(val_acc)\n",
        "    val_losses.append(val_loss)\n",
        "\n",
        "    print(f\"Epoch {epoch+1}: Train Acc: {train_acc:.4f}, Train Loss: {train_loss:.4f}, Val Acc: {val_acc:.4f}, Val Loss: {val_loss:.4f}\")"
      ],
      "metadata": {
        "colab": {
          "base_uri": "https://localhost:8080/"
        },
        "id": "B3b2UzKUMe9M",
        "outputId": "83382882-3010-4930-a450-e964068a021a"
      },
      "execution_count": 59,
      "outputs": [
        {
          "output_type": "stream",
          "name": "stdout",
          "text": [
            "Epoch 1: Train Acc: 0.7868, Train Loss: 0.5564, Val Acc: 0.8792, Val Loss: 0.3529\n",
            "Epoch 2: Train Acc: 0.8979, Train Loss: 0.2992, Val Acc: 0.8936, Val Loss: 0.3121\n",
            "Epoch 3: Train Acc: 0.9238, Train Loss: 0.2282, Val Acc: 0.9008, Val Loss: 0.3018\n",
            "Epoch 4: Train Acc: 0.9404, Train Loss: 0.1801, Val Acc: 0.9004, Val Loss: 0.3100\n",
            "Epoch 5: Train Acc: 0.9517, Train Loss: 0.1452, Val Acc: 0.8985, Val Loss: 0.3389\n"
          ]
        }
      ]
    },
    {
      "cell_type": "markdown",
      "source": [
        "#Test metrics"
      ],
      "metadata": {
        "id": "NrNnQf-GSS8s"
      }
    },
    {
      "cell_type": "code",
      "source": [
        "test_acc, test_loss, true_labels, pred_labels = evaluate(test_loader)\n",
        "precision, recall, f1, _ = precision_recall_fscore_support(true_labels, pred_labels, average='macro')\n",
        "print(f\"Test Accuracy: {test_acc:.4f}, Test Loss: {test_loss:.4f}\")\n",
        "print(f\"Precision: {precision:.4f}, Recall: {recall:.4f}, F1 Score: {f1:.4f}\")"
      ],
      "metadata": {
        "colab": {
          "base_uri": "https://localhost:8080/"
        },
        "id": "w2DhLY-oMic7",
        "outputId": "704f4e1f-f423-4485-8953-2f430d4fce80"
      },
      "execution_count": 60,
      "outputs": [
        {
          "output_type": "stream",
          "name": "stdout",
          "text": [
            "Test Accuracy: 0.8888, Test Loss: 0.3912\n",
            "Precision: 0.8894, Recall: 0.8888, F1 Score: 0.8887\n"
          ]
        }
      ]
    },
    {
      "cell_type": "markdown",
      "source": [
        "#Loss and Accuracy Plots"
      ],
      "metadata": {
        "id": "e47wYOEXSOHP"
      }
    },
    {
      "cell_type": "code",
      "source": [
        "plt.figure(figsize=(12, 5))\n",
        "plt.subplot(1, 2, 1)\n",
        "plt.plot(range(1, EPOCHS + 1), train_losses, label=\"Train Loss\")\n",
        "plt.plot(range(1, EPOCHS + 1), val_losses, label=\"Validation Loss\")\n",
        "plt.xlabel(\"Epochs\")\n",
        "plt.ylabel(\"Loss\")\n",
        "plt.title(\"Training and Validation Loss\")\n",
        "plt.legend()\n",
        "\n",
        "plt.subplot(1, 2, 2)\n",
        "plt.plot(range(1, EPOCHS + 1), train_accuracies, label=\"Train Accuracy\")\n",
        "plt.plot(range(1, EPOCHS + 1), val_accuracies, label=\"Validation Accuracy\")\n",
        "plt.xlabel(\"Epochs\")\n",
        "plt.ylabel(\"Accuracy\")\n",
        "plt.title(\"Training and Validation Accuracy\")\n",
        "plt.legend()\n",
        "\n",
        "plt.tight_layout()\n",
        "plt.show()"
      ],
      "metadata": {
        "colab": {
          "base_uri": "https://localhost:8080/",
          "height": 494
        },
        "id": "DIaYAeSbNRAn",
        "outputId": "b84eba07-d307-49ea-ffc9-b68dc5804d68"
      },
      "execution_count": 61,
      "outputs": [
        {
          "output_type": "display_data",
          "data": {
            "text/plain": [
              "<Figure size 1200x500 with 2 Axes>"
            ],
            "image/png": "[encoded data removed]"
          },
          "metadata": {}
        }
      ]
    },
    {
      "cell_type": "markdown",
      "source": [
        "#Changing hyperparameters"
      ],
      "metadata": {
        "id": "vSGNqAOLSct4"
      }
    },
    {
      "cell_type": "code",
      "source": [
        "BATCH_SIZE = 32\n",
        "\n",
        "train_loader = DataLoader(train_dataset, batch_size=BATCH_SIZE, shuffle=True)\n",
        "val_loader = DataLoader(val_dataset, batch_size=BATCH_SIZE, shuffle=False)\n",
        "test_loader = DataLoader(test_dataset, batch_size=BATCH_SIZE, shuffle=False)\n",
        "\n",
        "train_accuracies1, train_losses1 = [], []\n",
        "val_accuracies1, val_losses1 = [], []\n",
        "\n",
        "for epoch in range(EPOCHS):\n",
        "    train_acc1, train_loss1 = train_epoch(train_loader)\n",
        "    val_acc1, val_loss1, _, _ = evaluate(val_loader)\n",
        "\n",
        "    train_accuracies1.append(train_acc1)\n",
        "    train_losses1.append(train_loss1)\n",
        "    val_accuracies1.append(val_acc1)\n",
        "    val_losses1.append(val_loss1)\n",
        "\n",
        "    print(f\"Epoch {epoch+1}: Train Acc: {train_acc1:.4f}, Train Loss: {train_loss1:.4f}, Val Acc: {val_acc1:.4f}, Val Loss: {val_loss1:.4f}\")\n",
        "\n",
        "test_acc1, test_loss1, true_labels1, pred_labels1 = evaluate(test_loader)\n",
        "precision1, recall1, f11, _ = precision_recall_fscore_support(true_labels1, pred_labels1, average='macro')\n",
        "print(f\"Test Accuracy: {test_acc1:.4f}, Test Loss: {test_loss1:.4f}\")\n",
        "print(f\"Precision: {precision1:.4f}, Recall: {recall1:.4f}, F1 Score: {f11:.4f}\")"
      ],
      "metadata": {
        "colab": {
          "base_uri": "https://localhost:8080/"
        },
        "id": "d3gaoTMCGWGE",
        "outputId": "1f7b638b-400f-4690-f547-ffbe0dd4a890"
      },
      "execution_count": 62,
      "outputs": [
        {
          "output_type": "stream",
          "name": "stdout",
          "text": [
            "Epoch 1: Train Acc: 0.9476, Train Loss: 0.1532, Val Acc: 0.8967, Val Loss: 0.3389\n",
            "Epoch 2: Train Acc: 0.9574, Train Loss: 0.1261, Val Acc: 0.9006, Val Loss: 0.3630\n",
            "Epoch 3: Train Acc: 0.9641, Train Loss: 0.1059, Val Acc: 0.8945, Val Loss: 0.3485\n",
            "Epoch 4: Train Acc: 0.9702, Train Loss: 0.0894, Val Acc: 0.8925, Val Loss: 0.4258\n",
            "Epoch 5: Train Acc: 0.9747, Train Loss: 0.0746, Val Acc: 0.8899, Val Loss: 0.4315\n",
            "Test Accuracy: 0.8818, Test Loss: 0.4801\n",
            "Precision: 0.8850, Recall: 0.8818, F1 Score: 0.8817\n"
          ]
        }
      ]
    },
    {
      "cell_type": "code",
      "source": [
        "LR = 0.01\n",
        "\n",
        "optimizer = torch.optim.Adam(model.parameters(), lr=LR)\n",
        "\n",
        "train_accuracies2, train_losses2 = [], []\n",
        "val_accuracies2, val_losses2 = [], []\n",
        "\n",
        "for epoch in range(EPOCHS):\n",
        "    train_acc2, train_loss2 = train_epoch(train_loader)\n",
        "    val_acc2, val_loss2, _, _ = evaluate(val_loader)\n",
        "\n",
        "    train_accuracies2.append(train_acc2)\n",
        "    train_losses2.append(train_loss2)\n",
        "    val_accuracies2.append(val_acc2)\n",
        "    val_losses2.append(val_loss2)\n",
        "\n",
        "    print(f\"Epoch {epoch+1}: Train Acc: {train_acc2:.4f}, Train Loss: {train_loss2:.4f}, Val Acc: {val_acc2:.4f}, Val Loss: {val_loss2:.4f}\")\n",
        "\n",
        "test_acc2, test_loss2, true_labels2, pred_labels2 = evaluate(test_loader)\n",
        "precision2, recall2, f12, _ = precision_recall_fscore_support(true_labels2, pred_labels2, average='macro')\n",
        "print(f\"Test Accuracy: {test_acc2:.4f}, Test Loss: {test_loss2:.4f}\")\n",
        "print(f\"Precision: {precision2:.4f}, Recall: {recall2:.4f}, F1 Score: {f12:.4f}\")"
      ],
      "metadata": {
        "colab": {
          "base_uri": "https://localhost:8080/"
        },
        "id": "FvKSYQocTG_p",
        "outputId": "af58dee2-3de7-4077-c543-edd260a5676d"
      },
      "execution_count": 63,
      "outputs": [
        {
          "output_type": "stream",
          "name": "stdout",
          "text": [
            "Epoch 1: Train Acc: 0.8802, Train Loss: 0.3645, Val Acc: 0.8919, Val Loss: 0.3304\n",
            "Epoch 2: Train Acc: 0.9123, Train Loss: 0.2706, Val Acc: 0.8931, Val Loss: 0.3310\n",
            "Epoch 3: Train Acc: 0.9221, Train Loss: 0.2404, Val Acc: 0.8961, Val Loss: 0.3356\n",
            "Epoch 4: Train Acc: 0.9251, Train Loss: 0.2305, Val Acc: 0.8893, Val Loss: 0.3343\n",
            "Epoch 5: Train Acc: 0.9326, Train Loss: 0.2060, Val Acc: 0.8877, Val Loss: 0.3594\n",
            "Test Accuracy: 0.8893, Test Loss: 0.3731\n",
            "Precision: 0.8916, Recall: 0.8893, F1 Score: 0.8893\n"
          ]
        }
      ]
    },
    {
      "cell_type": "code",
      "source": [],
      "metadata": {
        "id": "8NRZz9ULTiFd"
      },
      "execution_count": 63,
      "outputs": []
    }
  ]
}